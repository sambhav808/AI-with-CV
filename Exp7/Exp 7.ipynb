{
 "cells": [
  {
   "cell_type": "code",
   "execution_count": 24,
   "id": "6c02e3f9-f348-4331-8633-ac5151d7f5db",
   "metadata": {},
   "outputs": [],
   "source": [
    "import requests\n",
    "from bs4 import BeautifulSoup\n",
    "\n",
    "def get_title(soup):\n",
    "    try:\n",
    "        title = soup.find(\"span\", attrs={\"id\": \"productTitle\"})\n",
    "        title_string = title.get_text(strip=True)\n",
    "    except AttributeError:\n",
    "        title_string = \"\"\n",
    "    return title_string"
   ]
  },
  {
   "cell_type": "code",
   "execution_count": 25,
   "id": "8b980782-dff1-4854-a658-22406aa06add",
   "metadata": {},
   "outputs": [],
   "source": [
    "def get_price(soup):\n",
    "    try:\n",
    "        price = soup.find(\"span\", attrs={\"class\": \"a-offscreen\"})\n",
    "        if price is not None:\n",
    "            price_string = price.get_text(strip=True)\n",
    "        else:\n",
    "            price_string = \"\"\n",
    "    except AttributeError:\n",
    "        price_string = \"\"\n",
    "    return price_string"
   ]
  },
  {
   "cell_type": "code",
   "execution_count": 26,
   "id": "4509dac0-7914-45f4-942f-bf93c3eb7c66",
   "metadata": {},
   "outputs": [],
   "source": [
    "def get_rating(soup):\n",
    "    try:\n",
    "        rating = soup.find(\"span\", attrs={\"class\": \"a-icon-alt\"})\n",
    "        if rating is not None:\n",
    "            rating_string = rating.get_text(strip=True)\n",
    "        else:\n",
    "            rating_string = \"\"\n",
    "    except AttributeError:\n",
    "        rating_string = \"\"\n",
    "    return rating_string"
   ]
  },
  {
   "cell_type": "code",
   "execution_count": 27,
   "id": "92986d67-7872-474d-8fb6-663b15f29c49",
   "metadata": {},
   "outputs": [],
   "source": [
    "def get_review_count(soup):\n",
    "    try:\n",
    "        review_count = soup.find(\"span\", attrs={\"id\": \"acrCustomerReviewText\"})\n",
    "        if review_count is not None:\n",
    "            review_count_string = review.get_text(strip=True)\n",
    "        else:\n",
    "            review_count_string = \"\"\n",
    "    except AttributeError:\n",
    "        review_count_string = \"\"\n",
    "    return review_count_string"
   ]
  },
  {
   "cell_type": "code",
   "execution_count": 28,
   "id": "4a19491a-c893-4a45-bd90-002b6d300607",
   "metadata": {},
   "outputs": [],
   "source": [
    "def get_availability(soup):\n",
    "    try:\n",
    "        availability = soup.find(\"span\", attrs={\"id\": \"availability\"})\n",
    "        if availability is not None:\n",
    "            availability_string = availability.get_text(strip=True)\n",
    "        else:\n",
    "            availability_string = \"\"\n",
    "    except AttributeError:\n",
    "        availability_string = \"\"\n",
    "    return availability_string"
   ]
  },
  {
   "cell_type": "code",
   "execution_count": 29,
   "id": "60105074-1de6-4d68-aff1-600c0d865421",
   "metadata": {},
   "outputs": [],
   "source": [
    "headers = {\n",
    "    \"User-Agent\": \"Mozilla/5.0 (Windows NT 10.0; Win64; x64) \"\n",
    "                  \"AppleWebKit/537.36 (KHTML, like Gecko) \"\n",
    "                  \"Chrome/119.0.0.0 Safari/537.36\",\n",
    "    \"Accept-Language\": \"en-US,en;q=0.9\"\n",
    "}"
   ]
  },
  {
   "cell_type": "code",
   "execution_count": 33,
   "id": "cfd04d7c-8dd1-4c9f-97f7-248200272dfc",
   "metadata": {},
   "outputs": [
    {
     "name": "stdout",
     "output_type": "stream",
     "text": [
      "Price: ₹61,400.00\n",
      "Rating: 4.5 out of 5 stars\n",
      "Review Count: 3,282 ratings\n",
      "Availability: In stock\n"
     ]
    }
   ],
   "source": [
    "if __name__ == \"__main__\":\n",
    "    url = \"https://www.amazon.in/Apple-iPhone-15-128-GB/dp/B0CHX1W1XY/ref=sr_1_3?crid=3F5FCKSGO08V6&dib=eyJ2IjoiMSJ9.8-aKrERwPzdGyJWfWOa56Pe-hsG6rA2B1P-c36bw40AL1me6rw8OXNrOi1LBmMiUbn9DxKHkto4uVmXQZQP8Hvfu561M18LajYuPP0CPB10l_EIC_2SjJlkIMUFZiNC722nWlfEwxzlL-Vfo4DISCJtAsiFPxopNM1B_NZIbE3UwCer4OERcPyIoEBEUI46vsUrq2OYWbKhTEBpeAe3SqzG3sPoXqm02jpwADCm4FGo.MDXYbWp0HFhLOnl0ILl8g3_5qKQAOgC-W7SiYpgc_2c&dib_tag=se&keywords=iphone&qid=1744262880&sprefix=ihon%2Caps%2C437&sr=8-3&th=1\"\n",
    "\n",
    "    try:\n",
    "        response = requests.get(url, headers=headers)\n",
    "        response.raise_for_status()  # Raise an error for bad status codes\n",
    "        soup = BeautifulSoup(response.content, \"html.parser\")\n",
    "\n",
    "        # Print extracted data\n",
    "        print(\"Price:\", get_price(soup))\n",
    "        print(\"Rating:\", get_rating(soup))\n",
    "        print(\"Review Count:\", get_review_count(soup))\n",
    "        print(\"Availability:\", get_availability(soup))\n",
    "\n",
    "    except requests.exceptions.RequestException as e:\n",
    "        print(f\"Error fetching page: {e}\")"
   ]
  },
  {
   "cell_type": "code",
   "execution_count": null,
   "id": "d62817eb-3f3a-46ee-9540-aa0ec7e3f60e",
   "metadata": {},
   "outputs": [],
   "source": []
  }
 ],
 "metadata": {
  "kernelspec": {
   "display_name": "Python 3 (ipykernel)",
   "language": "python",
   "name": "python3"
  },
  "language_info": {
   "codemirror_mode": {
    "name": "ipython",
    "version": 3
   },
   "file_extension": ".py",
   "mimetype": "text/x-python",
   "name": "python",
   "nbconvert_exporter": "python",
   "pygments_lexer": "ipython3",
   "version": "3.13.1"
  }
 },
 "nbformat": 4,
 "nbformat_minor": 5
}
