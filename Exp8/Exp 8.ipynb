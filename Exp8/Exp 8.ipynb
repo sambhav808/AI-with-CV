{
 "cells": [
  {
   "cell_type": "code",
   "execution_count": 2,
   "id": "82648480-e519-4595-a11b-a5cd1e712391",
   "metadata": {},
   "outputs": [],
   "source": [
    "import cv2\n",
    "import numpy as np\n",
    "\n",
    "# Load an image (in BGR by default)\n",
    "image = cv2.imread('Landscape.jpg')  # Replace with your image path\n",
    "\n",
    "# Convert BGR to RGB\n",
    "rgb_image = cv2.cvtColor(image, cv2.COLOR_BGR2RGB)\n",
    "\n",
    "# Convert BGR to Grayscale\n",
    "gray_image = cv2.cvtColor(image, cv2.COLOR_BGR2GRAY)\n",
    "\n",
    "# Create a black image (all zeros)\n",
    "black_image = np.zeros((512, 512, 3), dtype=np.uint8)\n",
    "\n",
    "# Create a white image (all 255)\n",
    "white_image = np.ones((512, 512, 3), dtype=np.uint8) * 255\n",
    "\n",
    "# Draw shapes on a copy of the white image\n",
    "shape_image = white_image.copy()\n",
    "\n",
    "# Draw a red rectangle\n",
    "cv2.rectangle(shape_image, (50, 50), (200, 200), (0, 0, 255), 3)\n",
    "\n",
    "# Draw a green circle\n",
    "cv2.circle(shape_image, (300, 150), 50, (0, 255, 0), -1)  # filled\n",
    "\n",
    "# Draw a blue line\n",
    "cv2.line(shape_image, (100, 300), (400, 300), (255, 0, 0), 5)\n",
    "\n",
    "# Show all results\n",
    "cv2.imshow('Original BGR Image', image)\n",
    "cv2.imshow('RGB Image', rgb_image)\n",
    "cv2.imshow('Grayscale Image', gray_image)\n",
    "cv2.imshow('Black Image', black_image)\n",
    "cv2.imshow('White Image', white_image)\n",
    "cv2.imshow('Shapes on White Image', shape_image)\n",
    "\n",
    "cv2.waitKey(0)\n",
    "cv2.destroyAllWindows()\n"
   ]
  },
  {
   "cell_type": "code",
   "execution_count": null,
   "id": "cfe4df6d-d419-40f1-b03e-e84ee7ce6419",
   "metadata": {},
   "outputs": [],
   "source": []
  }
 ],
 "metadata": {
  "kernelspec": {
   "display_name": "Python 3 (ipykernel)",
   "language": "python",
   "name": "python3"
  },
  "language_info": {
   "codemirror_mode": {
    "name": "ipython",
    "version": 3
   },
   "file_extension": ".py",
   "mimetype": "text/x-python",
   "name": "python",
   "nbconvert_exporter": "python",
   "pygments_lexer": "ipython3",
   "version": "3.12.4"
  }
 },
 "nbformat": 4,
 "nbformat_minor": 5
}
