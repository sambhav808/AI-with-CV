{
 "cells": [
  {
   "cell_type": "code",
   "execution_count": 22,
   "id": "40606fec-2209-4521-8e22-f09b5def86d5",
   "metadata": {},
   "outputs": [
    {
     "name": "stdout",
     "output_type": "stream",
     "text": [
      "Positive tweets percentage: 40.0 %\n",
      "Negative tweets percentage: 20.0 %\n",
      "Neutral tweets percentage: 40.0 %\n",
      "\n",
      "\n",
      "Positive tweets:\n",
      "RT @Tagonisticc: @theboocer @TheHoopFather @Totinhiiio @WatcherGuru Absolutely it will \n",
      "\n",
      "Companies are not taking a loss. \n",
      "\n",
      "Tarrifs also ca…\n",
      "@amyklobuchar Funny, farmers bought what they need at the end of last year (seed and chemicals). They have said the tarrifs aren't affecting them.\n",
      "@MyLordBebo He's shown to be a blowhard, it's all fanfare and then it becomes apparent it was a trap. 'Liberation day its gonna be so successful' quickly turned into backtracking tarrifs that were stupid to begin with. This is just fodder for his brainwashed followers that are still asleep.\n",
      "RT @westhoff_ben: Absolutely fire post. I think everyone can make money even in this market. I think the tarrifs could greatly affect the u…\n",
      "\n",
      "\n",
      "Negative tweets:\n",
      "@RetroAgent12 If you read the article and other articles it's because of CANADIAN tarrifs.\n",
      "RT @JonFraserTF: @Gray_Mackenzie . @Gray_Mackenzie - your bias is reprehensible. You have absolutely no credibility as a \"reporter\" anymore…\n"
     ]
    }
   ],
   "source": [
    "import re\n",
    "import tweepy\n",
    "from textblob import TextBlob\n",
    "\n",
    "class TwitterClient(object):\n",
    "    def __init__(self):\n",
    "        # Replace with your Bearer Token\n",
    "        bearer_token = 'AAAAAAAAAAAAAAAAAAAAAMiU0wEAAAAAcXCQWGKHZGqFXH5nK0PfZFN%2B82s%3DMSaccnhjiXbTIL3eGrYa9G6kUnPf0HHzCOGhr3mpgyzHXpUMwL'\n",
    "        \n",
    "        try:\n",
    "            # Initialize tweepy Client with Bearer Token for API v2\n",
    "            self.client = tweepy.Client(bearer_token=bearer_token)\n",
    "        except tweepy.TweepyException as e:\n",
    "            print(f\"Error: Authentication Failed - {e}\")\n",
    "\n",
    "    def clean_tweet(self, tweet):\n",
    "        return ' '.join(re.sub(r\"(@[A-Za-z0-9]+)|([^0-9A-Za-z \\t])|(\\w+:\\/\\/\\S+)\", \" \", tweet).split())\n",
    "\n",
    "    def get_tweet_sentiment(self, tweet):\n",
    "        analysis = TextBlob(self.clean_tweet(tweet))\n",
    "        if analysis.sentiment.polarity > 0:\n",
    "            return 'positive'\n",
    "        elif analysis.sentiment.polarity == 0:\n",
    "            return 'neutral'\n",
    "        else:\n",
    "            return 'negative'\n",
    "\n",
    "    def get_tweets(self, query, count=10):\n",
    "        tweets = []\n",
    "        try:\n",
    "            # Search tweets using the Client (API v2)\n",
    "            fetched_tweets = self.client.search_recent_tweets(query=query, max_results=count)\n",
    "            for tweet in fetched_tweets.data:\n",
    "                parsed_tweet = {}\n",
    "                parsed_tweet['text'] = tweet.text\n",
    "                parsed_tweet['sentiment'] = self.get_tweet_sentiment(tweet.text)\n",
    "                tweets.append(parsed_tweet)\n",
    "            return tweets\n",
    "        except tweepy.TweepyException as e:\n",
    "            print(f\"Error: {e}\")\n",
    "            return [] \n",
    "\n",
    "def main():\n",
    "    api = TwitterClient()\n",
    "    tweets = api.get_tweets(query='Tarrifs', count=10)\n",
    "\n",
    "    if not tweets:  \n",
    "        print(\"No tweets found or error occurred.\")\n",
    "        return\n",
    "\n",
    "    ptweets = [tweet for tweet in tweets if tweet['sentiment'] == 'positive']\n",
    "    print(f\"Positive tweets percentage: {100 * len(ptweets) / len(tweets)} %\")\n",
    "\n",
    "    ntweets = [tweet for tweet in tweets if tweet['sentiment'] == 'negative']\n",
    "    print(f\"Negative tweets percentage: {100 * len(ntweets) / len(tweets)} %\")\n",
    "\n",
    "    print(f\"Neutral tweets percentage: {100 * (len(tweets) - (len(ntweets) + len(ptweets))) / len(tweets)} %\")\n",
    "\n",
    "    print(\"\\n\\nPositive tweets:\")\n",
    "    for tweet in ptweets[:10]:\n",
    "        print(tweet['text'])\n",
    "\n",
    "    print(\"\\n\\nNegative tweets:\")\n",
    "    for tweet in ntweets[:10]:\n",
    "        print(tweet['text'])\n",
    "\n",
    "if __name__ == \"__main__\":\n",
    "    main()"
   ]
  },
  {
   "cell_type": "code",
   "execution_count": 6,
   "id": "3a813465-b193-4075-bd5d-718088b4330e",
   "metadata": {},
   "outputs": [],
   "source": []
  },
  {
   "cell_type": "code",
   "execution_count": null,
   "id": "96935e8e-60d5-492e-b346-f3179e9a5cf9",
   "metadata": {},
   "outputs": [],
   "source": []
  },
  {
   "cell_type": "code",
   "execution_count": null,
   "id": "facae5a0-6d52-4e73-8773-13d2fee2566c",
   "metadata": {},
   "outputs": [],
   "source": []
  },
  {
   "cell_type": "code",
   "execution_count": null,
   "id": "76cfa556-44f6-409b-83bd-f934e52fb895",
   "metadata": {},
   "outputs": [],
   "source": []
  },
  {
   "cell_type": "code",
   "execution_count": null,
   "id": "721b4bdd-7927-4f98-b65e-1f65134ee7b5",
   "metadata": {},
   "outputs": [],
   "source": []
  },
  {
   "cell_type": "code",
   "execution_count": null,
   "id": "daead8c8-87cb-4f97-94fe-e036ab52dcbc",
   "metadata": {},
   "outputs": [],
   "source": []
  }
 ],
 "metadata": {
  "kernelspec": {
   "display_name": "Python 3 (ipykernel)",
   "language": "python",
   "name": "python3"
  },
  "language_info": {
   "codemirror_mode": {
    "name": "ipython",
    "version": 3
   },
   "file_extension": ".py",
   "mimetype": "text/x-python",
   "name": "python",
   "nbconvert_exporter": "python",
   "pygments_lexer": "ipython3",
   "version": "3.11.3"
  }
 },
 "nbformat": 4,
 "nbformat_minor": 5
}
