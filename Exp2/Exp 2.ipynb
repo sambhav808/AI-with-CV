{
 "cells": [
  {
   "cell_type": "code",
   "execution_count": 3,
   "id": "bafece89-b229-4cc5-beea-8237973e22f5",
   "metadata": {},
   "outputs": [
    {
     "name": "stdout",
     "output_type": "stream",
     "text": [
      "Processing instance: [1, 'Sunny', 'Warm', 'Normal', 'Strong', 'Warm', 'Same'] Label: Yes\n",
      " (S): [1, 'Sunny', 'Warm', 'Normal', 'Strong', 'Warm', 'Same']\n",
      " (G): [['?', '?', '?', '?', '?', '?', '?'], ['?', '?', '?', '?', '?', '?', '?'], ['?', '?', '?', '?', '?', '?', '?'], ['?', '?', '?', '?', '?', '?', '?'], ['?', '?', '?', '?', '?', '?', '?'], ['?', '?', '?', '?', '?', '?', '?'], ['?', '?', '?', '?', '?', '?', '?']]\n",
      "Processing instance: [2, 'Sunny', 'Warm', 'High', 'Strong', 'Warm', 'Same'] Label: Yes\n",
      " (S): ['?', 'Sunny', 'Warm', '?', 'Strong', 'Warm', 'Same']\n",
      " (G): [['?', '?', '?', '?', '?', '?', '?'], ['?', '?', '?', '?', '?', '?', '?'], ['?', '?', '?', '?', '?', '?', '?'], ['?', '?', '?', '?', '?', '?', '?'], ['?', '?', '?', '?', '?', '?', '?'], ['?', '?', '?', '?', '?', '?', '?'], ['?', '?', '?', '?', '?', '?', '?']]\n",
      "Processing instance: [3, 'Rainy', 'Cold', 'High', 'Strong', 'Warm', 'Change'] Label: No\n",
      " (S): ['?', 'Sunny', 'Warm', '?', 'Strong', 'Warm', 'Same']\n",
      " (G): [['?', 'Sunny', '?', '?', '?', '?', '?'], ['?', '?', 'Warm', '?', '?', '?', '?'], ['?', '?', '?', '?', '?', '?', 'Same']]\n",
      "Processing instance: [4, 'Sunny', 'Warm', 'High', 'Strong', 'Cool', 'Change'] Label: Yes\n",
      " (S): ['?', 'Sunny', 'Warm', '?', 'Strong', '?', '?']\n",
      " (G): [['?', 'Sunny', '?', '?', '?', '?', '?'], ['?', '?', 'Warm', '?', '?', '?', '?'], ['?', '?', '?', '?', '?', '?', 'Same']]\n",
      "Final  (S): ['?', 'Sunny', 'Warm', '?', 'Strong', '?', '?']\n",
      "Final  (G): [['?', 'Sunny', '?', '?', '?', '?', '?'], ['?', '?', 'Warm', '?', '?', '?', '?']]\n"
     ]
    }
   ],
   "source": [
    "import copy, pandas as pd\n",
    "\n",
    "def const(h, e): return all(x=='?' or x==y for x,y in zip(h,e))\n",
    "def update_pos(G, S, e):\n",
    "    for j in range(len(S)):\n",
    "        S[j] = '?' if S[j]!='Null' and S[j]!=e[j] else e[j]\n",
    "def update_neg(G, S, e):\n",
    "    new_G = []\n",
    "    for g in G:\n",
    "        if const(g,e):\n",
    "            for i in range(len(e)):\n",
    "                if S[i]!='?' and S[i]!='Null' and e[i]!=S[i]:\n",
    "                    h = g.copy()\n",
    "                    h[i] = S[i]\n",
    "                    if h not in new_G: new_G.append(h)\n",
    "        else: new_G.append(g)\n",
    "    return new_G\n",
    "def sync(G, S): return [g for g in G if all(g[i]=='?' or g[i]==S[i] for i in range(len(S)))]\n",
    "data = pd.read_csv('cealgo.csv')\n",
    "instances = data.values.tolist()\n",
    "G = [['?']*len(instances[0][:-1]) for _ in range(len(instances[0][:-1]))]\n",
    "S = ['Null']*len(instances[0][:-1])\n",
    "for instance in instances:\n",
    "    e, l = instance[:-1], instance[-1]\n",
    "    print(\"Processing instance:\", e, \"Label:\", l)\n",
    "    if l=='Yes': update_pos(G,S,e)\n",
    "    else: G = update_neg(G,S,e)\n",
    "    print(\" (S):\", S)\n",
    "    print(\" (G):\", G)\n",
    "G = sync(G,S)\n",
    "print(\"Final  (S):\", S)\n",
    "print(\"Final  (G):\", G)"
   ]
  },
  {
   "cell_type": "code",
   "execution_count": null,
   "id": "9441b2e6-f20b-4c0a-97e7-bb6f2033a6f0",
   "metadata": {},
   "outputs": [],
   "source": []
  }
 ],
 "metadata": {
  "kernelspec": {
   "display_name": "Python 3 (ipykernel)",
   "language": "python",
   "name": "python3"
  },
  "language_info": {
   "codemirror_mode": {
    "name": "ipython",
    "version": 3
   },
   "file_extension": ".py",
   "mimetype": "text/x-python",
   "name": "python",
   "nbconvert_exporter": "python",
   "pygments_lexer": "ipython3",
   "version": "3.12.4"
  }
 },
 "nbformat": 4,
 "nbformat_minor": 5
}
