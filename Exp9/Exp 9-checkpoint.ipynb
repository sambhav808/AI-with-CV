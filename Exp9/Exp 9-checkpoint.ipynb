{
 "cells": [
  {
   "cell_type": "code",
   "execution_count": 5,
   "id": "858d746f-c9b8-487c-8f51-2612363d845e",
   "metadata": {},
   "outputs": [],
   "source": [
    "import cv2\n",
    "\n",
    "# Load Haar cascades\n",
    "cascades = {\n",
    "    'face': cv2.CascadeClassifier(cv2.data.haarcascades + 'haarcascade_frontalface_default.xml'),\n",
    "    'eye': cv2.CascadeClassifier(cv2.data.haarcascades + 'haarcascade_eye.xml'),\n",
    "    'smile': cv2.CascadeClassifier(cv2.data.haarcascades + 'haarcascade_smile.xml')\n",
    "}\n",
    "\n",
    "# Load and verify image\n",
    "image_path = 'IMG.jpg'\n",
    "image = cv2.imread('IMG.jpg')\n",
    "if image is None:\n",
    "    raise FileNotFoundError(f\"Image not found at '{image_path}'\")\n",
    "\n",
    "# Convert to grayscale\n",
    "gray = cv2.cvtColor(image, cv2.COLOR_BGR2GRAY)\n",
    "\n",
    "# Detect and annotate features\n",
    "def detect_and_draw(cascade, gray_roi, color_roi, color, **kwargs):\n",
    "    for (x, y, w, h) in cascade.detectMultiScale(gray_roi, **kwargs):\n",
    "        cv2.rectangle(color_roi, (x, y), (x + w, y + h), color, 2)\n",
    "\n",
    "# Detect faces and within them eyes and smiles\n",
    "for (x, y, w, h) in cascades['face'].detectMultiScale(gray, scaleFactor=1.3, minNeighbors=5):\n",
    "    face_gray, face_color = gray[y:y + h, x:x + w], image[y:y + h, x:x + w]\n",
    "    cv2.rectangle(image, (x, y), (x + w, y + h), (255, 0, 0), 2)\n",
    "    detect_and_draw(cascades['eye'], face_gray, face_color, (0, 255, 0), scaleFactor=1.1, minNeighbors=10)\n",
    "    detect_and_draw(cascades['smile'], face_gray, face_color, (0, 0, 255), scaleFactor=1.7, minNeighbors=22)\n",
    "\n",
    "# Show result\n",
    "cv2.imshow('Detected Face, Eyes and Smile', image)\n",
    "cv2.waitKey(0)\n",
    "cv2.destroyAllWindows()\n"
   ]
  },
  {
   "cell_type": "code",
   "execution_count": null,
   "id": "a8013fbf-4961-4a98-9f04-de3c4e23c4af",
   "metadata": {},
   "outputs": [],
   "source": []
  }
 ],
 "metadata": {
  "kernelspec": {
   "display_name": "Python 3 (ipykernel)",
   "language": "python",
   "name": "python3"
  },
  "language_info": {
   "codemirror_mode": {
    "name": "ipython",
    "version": 3
   },
   "file_extension": ".py",
   "mimetype": "text/x-python",
   "name": "python",
   "nbconvert_exporter": "python",
   "pygments_lexer": "ipython3",
   "version": "3.13.1"
  }
 },
 "nbformat": 4,
 "nbformat_minor": 5
}
